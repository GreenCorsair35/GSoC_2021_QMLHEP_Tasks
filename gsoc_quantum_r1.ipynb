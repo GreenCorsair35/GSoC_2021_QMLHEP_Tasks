{
  "nbformat": 4,
  "nbformat_minor": 0,
  "metadata": {
    "colab": {
      "name": "gsoc_quantum_r1.ipynb",
      "provenance": [],
      "collapsed_sections": []
    },
    "kernelspec": {
      "name": "python3",
      "display_name": "Python 3"
    },
    "language_info": {
      "name": "python"
    }
  },
  "cells": [
    {
      "cell_type": "markdown",
      "source": [
        "**Task I: Quantum Computing Part**"
      ],
      "metadata": {
        "id": "yGcDzpJaLBDZ"
      }
    },
    {
      "cell_type": "markdown",
      "source": [
        "1) implementing a simple quantum operation with Cirq"
      ],
      "metadata": {
        "id": "13zoeyzhLQBd"
      }
    },
    {
      "cell_type": "code",
      "execution_count": 1,
      "metadata": {
        "id": "CATHGwWozrQa"
      },
      "outputs": [],
      "source": [
        "# Import cirq if already installed or install it if not\n",
        "try:\n",
        "    import cirq\n",
        "except ImportError:\n",
        "    print(\"installing cirq...\")\n",
        "    !pip install --quiet cirq\n",
        "    import cirq\n",
        "    print(\"installed cirq.\")"
      ]
    },
    {
      "cell_type": "code",
      "source": [
        "# Create 5 qubits (0 -> a, 1 -> b, 2 -> c, 3 -> d, 4 -> e)\n",
        "\n",
        "# using named qubit\n",
        "# a = cirq.NamedQubit('0')\n",
        "# b = cirq.NamedQubit('1')\n",
        "# c = cirq.NamedQubit('2')\n",
        "# d = cirq.NamedQubit('3')\n",
        "# e = cirq.NamedQubit('4')\n",
        "\n",
        "# using line qubit\n",
        "a, b, c, d, e = cirq.LineQubit.range(5)"
      ],
      "metadata": {
        "id": "dgoh0WJc6vxd"
      },
      "execution_count": 2,
      "outputs": []
    },
    {
      "cell_type": "code",
      "source": [
        "# create a circuit\n",
        "circuit = cirq.Circuit()"
      ],
      "metadata": {
        "id": "TZ-w4aOnF8WL"
      },
      "execution_count": 3,
      "outputs": []
    },
    {
      "cell_type": "code",
      "source": [
        "# Apply Hadamard operation on every qubit and append them to the circuit\n",
        "circuit.append([\n",
        "                cirq.H(a), # 0\n",
        "                cirq.H(b), # 1\n",
        "                cirq.H(c), # 2\n",
        "                cirq.H(d), # 3\n",
        "                cirq.H(e)  # 4\n",
        "                ])"
      ],
      "metadata": {
        "id": "e_o-7FWg6-3y"
      },
      "execution_count": 4,
      "outputs": []
    },
    {
      "cell_type": "code",
      "source": [
        "# Apply CNOT operation and append them to the circuit\n",
        "circuit.append([\n",
        "                cirq.CNOT(a, b), # (0, 1)\n",
        "                cirq.CNOT(b, c), # (1, 2)\n",
        "                cirq.CNOT(c, d), # (2, 3)\n",
        "                cirq.CNOT(d, e)  # (3, 4)\n",
        "                ])"
      ],
      "metadata": {
        "id": "iRIdAepB7IIY"
      },
      "execution_count": 5,
      "outputs": []
    },
    {
      "cell_type": "code",
      "source": [
        "# SWAP (0, 4) and append it to the circuit\n",
        "circuit.append(cirq.SWAP(a, e))"
      ],
      "metadata": {
        "id": "YGdT4xlH7jET"
      },
      "execution_count": 6,
      "outputs": []
    },
    {
      "cell_type": "code",
      "source": [
        "# Importing math Library to use 'pi' value\n",
        "import math"
      ],
      "metadata": {
        "id": "Ilb-x9tsCfuK"
      },
      "execution_count": 7,
      "outputs": []
    },
    {
      "cell_type": "code",
      "source": [
        "# Rotate X with pi/2 on any qubit ('2' for example)\n",
        "circuit.append(cirq.rx(math.pi/2).on(c))"
      ],
      "metadata": {
        "id": "-cyAonoD9w9P"
      },
      "execution_count": 8,
      "outputs": []
    },
    {
      "cell_type": "code",
      "source": [
        "print(circuit)"
      ],
      "metadata": {
        "colab": {
          "base_uri": "https://localhost:8080/"
        },
        "id": "FcqgAUHEB90c",
        "outputId": "70ef39d6-6984-48ee-df84-803585b0896c"
      },
      "execution_count": 9,
      "outputs": [
        {
          "output_type": "stream",
          "name": "stdout",
          "text": [
            "0: ───H───@──────────────────────×───\n",
            "          │                      │\n",
            "1: ───H───X───@──────────────────┼───\n",
            "              │                  │\n",
            "2: ───H───────X───@───Rx(0.5π)───┼───\n",
            "                  │              │\n",
            "3: ───H───────────X───@──────────┼───\n",
            "                      │          │\n",
            "4: ───H───────────────X──────────×───\n"
          ]
        }
      ]
    },
    {
      "cell_type": "markdown",
      "source": [
        "2) Creating a circuit that is a series of small cirq.Rx rotations and plot the probability of measuring the state in the |0⟩ state."
      ],
      "metadata": {
        "id": "47uVVJtVLUFn"
      }
    },
    {
      "cell_type": "code",
      "source": [
        "# import random for the range\n",
        "import random"
      ],
      "metadata": {
        "id": "NGRp6S-AS5fK"
      },
      "execution_count": 10,
      "outputs": []
    },
    {
      "cell_type": "code",
      "source": [
        "def qubit_rotation_mesuring(serie, start, stop):\n",
        "  # Create a qubit\n",
        "  a = cirq.LineQubit(0)\n",
        "\n",
        "  # Create circuit\n",
        "  circ = cirq.Circuit()\n",
        "\n",
        "  # Create a simulator\n",
        "  sim = cirq.Simulator()\n",
        "\n",
        "  # Rotate for a given serie\n",
        "  for i in range(0, serie):\n",
        "    rad = round(random.uniform(start, stop), 2)\n",
        "    circ.append(cirq.rx(rad).on(a))\n",
        "\n",
        "  print(circ)\n",
        "\n",
        "  # We get the probability of mesauring |0>.\n",
        "  prob = sim.simulate(circ).density_matrix_of()[0][0].real\n",
        "  if prob < 0:\n",
        "    prob = 0\n",
        "  elif prob > 1:\n",
        "    prob = 1\n",
        "    \n",
        "  print(\"\\nProbability of measuring the state |0>: %f\" % prob)"
      ],
      "metadata": {
        "id": "gMcZnKlZPs6u"
      },
      "execution_count": 11,
      "outputs": []
    },
    {
      "cell_type": "code",
      "source": [
        "# Let the user choose the serie (number of Rx operations)\n",
        "serie = int(input(\"Indicate the serie: \"))\n",
        "# and the range (should be small) of rotation about the Pauli 'X' axis in terms of radians\n",
        "min_range = int(input(\"Indicate the minimum of the range: \"))\n",
        "max_range = int(input(\"Indicate the maximum of the range: \"))\n",
        "\n",
        "# call the function that create a circuit that that fullfil the request\n",
        "qubit_rotation_mesuring(serie, min_range, max_range)"
      ],
      "metadata": {
        "colab": {
          "base_uri": "https://localhost:8080/"
        },
        "id": "6gvGIV-0NqYJ",
        "outputId": "ebbb5a2c-7fea-4b0d-899d-e125a6fc3f6a"
      },
      "execution_count": 12,
      "outputs": [
        {
          "output_type": "stream",
          "name": "stdout",
          "text": [
            "Indicate the serie: 7\n",
            "Indicate the minimum of the range: 4\n",
            "Indicate the maximum of the range: 16\n",
            "0: ───Rx(-0.374π)───Rx(-0.056π)───Rx(0.886π)───Rx(-1.59π)───Rx(0.224π)───Rx(-1.08π)───Rx(-1.39π)───\n",
            "\n",
            "Probability of measuring the state |0>: 0.304840\n"
          ]
        }
      ]
    },
    {
      "cell_type": "code",
      "source": [
        ""
      ],
      "metadata": {
        "id": "O61KR6jsdNdS"
      },
      "execution_count": 12,
      "outputs": []
    }
  ]
}